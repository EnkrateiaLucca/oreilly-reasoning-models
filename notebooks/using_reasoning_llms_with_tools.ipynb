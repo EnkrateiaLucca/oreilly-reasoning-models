{
 "cells": [
  {
   "cell_type": "code",
   "execution_count": 1,
   "id": "27f777b7",
   "metadata": {},
   "outputs": [
    {
     "name": "stdout",
     "output_type": "stream",
     "text": [
      "A positive headline from today, 9 July 2025:\n",
      "\n",
      "Merck is buying Verona Pharma for about $10 billion to speed up global access to the first new inhaled maintenance therapy for chronic obstructive pulmonary disease (COPD) in more than 20 years.\n",
      "\n",
      "Why it’s good news\n",
      "\n",
      "• Better treatment for millions of patients – Verona’s drug Ohtuvayre (ensifentrine) was approved by the FDA last year and combines bronchodilation with anti-inflammatory action in a single, easy-to-use nebulized dose. Analysts expect it to generate $3-4 billion a year at peak and to “re-define the COPD treatment paradigm.” ([reuters.com](https://www.reuters.com/business/healthcare-pharmaceuticals/merck-nears-10-billion-deal-respiratory-drugmaker-verona-ft-reports-2025-07-09/))\n",
      "\n",
      "• Faster roll-out worldwide – Merck’s global commercial muscle and research budget should get Ohtuvayre to far more patients, far more quickly, than a small standalone company could manage. Merck says it expects multibillion-dollar annual sales from the drug by the mid-2030s. ([reuters.com](https://www.reuters.com/business/healthcare-pharmaceuticals/merck-nears-10-billion-deal-respiratory-drugmaker-verona-ft-reports-2025-07-09/))\n",
      "\n",
      "• More R&D investment in lung disease – The deal is Merck’s biggest since 2023 and signals that large pharmaceutical companies see respiratory illnesses—often under-funded relative to their burden—as an important growth area. ([reuters.com](https://www.reuters.com/business/healthcare-pharmaceuticals/merck-nears-10-billion-deal-respiratory-drugmaker-verona-ft-reports-2025-07-09/))\n",
      "\n",
      "• A boost for both companies’ employees and investors – Merck shares rose about 2 percent and Verona’s leapt roughly 20 percent on the announcement, reflecting optimism that the acquisition will create value and secure jobs devoted to developing further respiratory therapies. ([investopedia.com](https://www.investopedia.com/5-things-to-know-before-the-stock-market-opens-july-09-2025-11768815), [reuters.com](https://www.reuters.com/business/healthcare-pharmaceuticals/merck-nears-10-billion-deal-respiratory-drugmaker-verona-ft-reports-2025-07-09/))\n",
      "\n",
      "In short, today’s Merck–Verona agreement is a win for patients with COPD, for medical innovation, and for the companies’ workers and shareholders—an encouraging piece of news on 9 July 2025.\n"
     ]
    }
   ],
   "source": [
    "from openai import OpenAI\n",
    "client = OpenAI()\n",
    "\n",
    "response = client.responses.create(\n",
    "    model=\"o3-2025-04-16\",\n",
    "    tools=[{\"type\": \"web_search_preview\"}],\n",
    "    input=\"What was a positive news story from today?\"\n",
    ")\n",
    "\n",
    "print(response.output_text)"
   ]
  },
  {
   "cell_type": "code",
   "execution_count": null,
   "id": "348a8e1b",
   "metadata": {},
   "outputs": [],
   "source": []
  }
 ],
 "metadata": {
  "language_info": {
   "name": "python"
  }
 },
 "nbformat": 4,
 "nbformat_minor": 5
}
