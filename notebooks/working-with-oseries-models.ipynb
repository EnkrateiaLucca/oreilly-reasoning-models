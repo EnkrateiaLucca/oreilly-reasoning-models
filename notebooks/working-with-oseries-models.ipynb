{
 "cells": [
  {
   "cell_type": "markdown",
   "metadata": {},
   "source": [
    "Below are seven concise, concrete examples—one for each recommended use case from the tutorial. Each example has:\n",
    "\n",
    "1. **Problem Description** (the scenario)\n",
    "2. **Prompt** (as would be sent to the reasoning model—using direct, concise instructions)\n",
    "\n",
    "---\n",
    "\n",
    "## 1. Navigating ambiguous tasks\n",
    "\n",
    "**Problem Description**  \n",
    "A startup founder needs to draft hiring guidelines for a new position but provides only partial and somewhat conflicting requirements. They’re unsure what skill level they can afford versus what they need. The model must interpret the user’s incomplete constraints, clarify them, and propose a solution.\n",
    "\n",
    "**Prompt**  \n",
    "```\n",
    "[Developer Message]\n",
    "Formatting re-enabled\n",
    "You are a reasoning model. Our user wants to create a hiring plan for a UX designer but only has partial guidelines:\n",
    "\n",
    "- Their budget is uncertain\n",
    "- They want a senior-level skill set\n",
    "- They have conflicting timelines (start immediately vs. wait 3 months)\n",
    "- They’re unsure if they need a permanent or contract hire\n",
    "\n",
    "Please reconcile these requirements, highlight areas needing clarification, and propose a short, workable hiring plan.\n",
    "```"
   ]
  },
  {
   "cell_type": "code",
   "execution_count": 4,
   "metadata": {},
   "outputs": [],
   "source": [
    "from openai import OpenAI\n",
    "\n",
    "client = OpenAI()\n",
    "\n",
    "MODEL = \"o3-2025-04-16\"\n",
    "\n",
    "response = client.chat.completions.create(\n",
    "    model=MODEL,\n",
    "    messages=[\n",
    "        {\"role\": \"user\", \"content\": \"Hello, world!\"}\n",
    "    ]\n",
    ")"
   ]
  },
  {
   "cell_type": "code",
   "execution_count": 3,
   "metadata": {},
   "outputs": [
    {
     "data": {
      "text/plain": [
       "ChatCompletion(id='chatcmpl-BrRSvNTidrNl9OWu6bsWWXDMiGoZp', choices=[Choice(finish_reason='stop', index=0, logprobs=None, message=ChatCompletionMessage(content='Hello! How can I help you today?', refusal=None, role='assistant', annotations=[], audio=None, function_call=None, tool_calls=None))], created=1752076661, model='o3-2025-04-16', object='chat.completion', service_tier='default', system_fingerprint=None, usage=CompletionUsage(completion_tokens=27, prompt_tokens=10, total_tokens=37, completion_tokens_details=CompletionTokensDetails(accepted_prediction_tokens=0, audio_tokens=0, reasoning_tokens=0, rejected_prediction_tokens=0), prompt_tokens_details=PromptTokensDetails(audio_tokens=0, cached_tokens=0)))"
      ]
     },
     "execution_count": 3,
     "metadata": {},
     "output_type": "execute_result"
    }
   ],
   "source": [
    "response"
   ]
  },
  {
   "cell_type": "code",
   "execution_count": null,
   "metadata": {},
   "outputs": [],
   "source": []
  },
  {
   "cell_type": "code",
   "execution_count": 5,
   "metadata": {},
   "outputs": [
    {
     "data": {
      "text/plain": [
       "ChatCompletion(id='chatcmpl-BrRTub1f1kJ1QX6lznDQBrqaBRzwL', choices=[Choice(finish_reason='stop', index=0, logprobs=None, message=ChatCompletionMessage(content='Below is a practical, “fill-in-the-blanks” framework you can use right now.  \\nFeel free to answer the embedded questions (§0) to tighten the plan even more.\\n\\n────────────────────────\\n0. QUICK CLARIFIERS\\n────────────────────────\\na. What problem must the designer solve in the first 3–6 months?  \\nb. Is the team remote-first, hybrid, or on-site?  \\nc. Which geographies can you legally pay in?  \\nd. Hard stop or soft start for the 3-month delay (e.g., waiting for funding vs. product-road-map shift)?  \\ne. Do you already have a contractor or agency on standby?\\n\\nIf you can answer those, the rest of the plan “locks in.” If not, each section below contains fallback ranges and decision triggers.\\n\\n────────────────────────\\n1. SCOPE & SENIORITY BENCHMARK\\n────────────────────────\\nCore senior-level competencies to insist on:\\n• Discovery & generative research (interviews, JTBD, diary studies).  \\n• IA + interaction design (flows, wireframes, component-level system thinking).  \\n• High-fidelity prototyping (Figma, Principle, or Framer).  \\n• Data-informed iteration (can set up usability testing and read analytics).  \\n• Influence & mentorship (has led at least one junior/mid designer or cross-functional pod).\\n\\nTarget résumé signals: 6–10+ years total experience, shipped ≥2 end-to-end products at your product size/market.\\n\\n────────────────────────\\n2. BUDGET BRACKETS\\n────────────────────────\\nThe table below shows current North-American/Western-Europe market medians.  \\nAdjust −15 % to −30 % for full-remote, +10 % for expensive metros (SF/NY/LDN).\\n\\nPERMANENT\\n• Base salary …………… $130 k – $170 k  \\n• Stock / bonus ………… 10 % – 20 % of base  \\n• Burden & benefits …… +20 % (payroll tax, health, etc.)  \\nAll-in annual …………… $165 k – $215 k  \\n\\nCONTRACT\\n• Hourly senior UX …… $90 – $150/hr  \\n• 40 hr wk, 3 mo …… $45 k – $75 k  \\n• 40 hr wk, 6 mo …… $90 k – $150 k  \\nNo benefits, quicker off-ramp.\\n\\n────────────────────────\\n3. DECISION TREE: CONTRACT, PERM, OR HYBRID\\n────────────────────────\\n                    NEED OUTPUT IN ≤4 WEEKS?\\n                             │\\n                 ┌───Yes─────┴────No (3 mo buffer)────┐\\n                 │                                   │\\n Have funds for at least          Solid funding in 3 mo but\\n 3-6 mo of contract work?         cash-flow tight now?\\n                 │                                   │\\n       ┌────Yes (bridge)──┐               ┌────Yes───┐\\n       │                  │               │          │\\nShort-term senior          Hybrid: 3-mo   Postpone hiring,\\ncontractor (3-mo)          contract to    prep pipeline,\\n+ simultaneous perm        start now,     kick off perm\\nsearch (avg 6–8 wks).      convert or     search at T-4 wks.\\n                           hand-off.\\n\\nIf both funding and urgency are unclear → pause hiring, run a paid design audit (1–2 weeks, $5–10 k) to refine scope, then revisit.\\n\\n────────────────────────\\n4. TIMELINE (GANTT-STYLE)\\n────────────────────────\\nWeek 0\\u2003\\u2003\\u2003\\u2003\\u2003\\u2003\\u2003\\u2003\\u2003\\u2003\\u2003\\u2003\\u2003\\u2003\\u2003\\u2003→ Decide “bridge contractor” vs. “delay”  \\nWeek 0–1\\u2003\\u2003\\u2003\\u2003\\u2003\\u2003\\u2003\\u2003\\u2003\\u2003\\u2003\\u2003→ Approve budget range, role scorecard  \\nWeek 1–2\\u2003\\u2003\\u2003\\u2003\\u2003\\u2003\\u2003\\u2003\\u2003\\u2003\\u2003\\u2003→ Write JD variants (perm + contract), choose channels  \\nWeek 2–5 (parallel)  \\n\\u2003Recruiting sprint #1\\u2003\\u2002 Perm candidates (agency, LI, Dribbble, local meetups)  \\n\\u2003Recruiting sprint #1\\u2003\\u2002 Contractors (TopTal, Working Not Working, personal network)  \\nWeek 3\\u2003\\u2003\\u2003\\u2003\\u2003\\u2003\\u2003\\u2003\\u2003\\u2003\\u2003\\u2003→ First contractor onboard (if bridge)  \\nWeek 4–6\\u2003\\u2003\\u2003\\u2003\\u2003\\u2003\\u2003\\u2003\\u2003\\u2003\\u2003→ Portfolio + behavioural interviews, design exercise  \\nWeek 6–7\\u2003\\u2003\\u2003\\u2003\\u2003\\u2003\\u2003\\u2003\\u2003\\u2003\\u2003→ Offer + negotiation  \\nWeek 8\\u2003\\u2003\\u2003\\u2003\\u2003\\u2003\\u2003\\u2003\\u2003\\u2003\\u2003\\u2003→ Perm hire’s notice period begins  \\nWeek 12–14\\u2003\\u2003\\u2003\\u2003\\u2003\\u2003\\u2003\\u2003\\u2003\\u2003→ Perm hire start; contractor overlap 2 wks for knowledge transfer  \\nWeek 14+\\u2003\\u2003\\u2003\\u2003\\u2003\\u2003\\u2003\\u2003\\u2003\\u2003→ Evaluate extension or ramp-down of contractor\\n\\n────────────────────────\\n5. SOURCING CHANNELS\\n────────────────────────\\nQuickest\\n• Personal referrals (Slack/WhatsApp/LinkedIn asks: “Looking for senior UX w/ X domain expertise; DM me”)  \\n• Specialized UX staffing firms (e.g., Creative Circle, WunderLand, Aquent). Contract talent in 48 hrs.\\n\\nBalanced\\n• LinkedIn paid slots + design-specific boards (Dribbble, Working Not Working, UX Jobs Board).  \\n• In-house recruiter outreach.\\n\\nLonger funnel / wider reach\\n• Portfolio communities (ADPList, Women In Product Design).  \\n• Speaker meetups / conferences for passive senior talent.\\n\\n────────────────────────\\n6. INTERVIEW LOOP (2-3 HRS TOTAL)\\n────────────────────────\\n1. 30 min initial screen – motivation, domain fit, salary/rate check.  \\n2. 45 min portfolio deep-dive – pick 1 project, probe for problem framing, constraints, metrics.  \\n3. 60 min live design collaboration – whiteboard a flow, include PM + Engineer to test cross-functionality.  \\n4. 15 min stakeholder fit call (exec or founder).  \\n5. Reference checks (ex-manager + ex-peer).  \\n\\nPass criteria rubric (score 1–5 each):  \\n• Problem-solving rigor  \\n• Communication & storytelling  \\n• Craft & systems thinking  \\n• Velocity / autonomy  \\n• Leadership & mentoring\\n\\n────────────────────────\\n7. ONBOARDING LITE (FIRST 4 WEEKS)\\n────────────────────────\\nWeek 1: product walkthrough, data dashboards, research repositories.  \\nWeek 2: run a “listening tour” (shadow support, sales, PMs).  \\nWeek 3: quick-win usability evaluation → deliver top-5 issues.  \\nWeek 4: present 90-day UX roadmap tied to business goals.\\n\\n────────────────────────\\n8. RISK MITIGATION\\n────────────────────────\\n• Put a 2-week opt-out clause in any contract.  \\n• Attach a 90-day guarantee with agencies (free replacement).  \\n• Maintain design hand-off artifacts in shared Figma library for continuity.  \\n• Keep at least 10 % of annual design budget unallocated for sudden extensions or tools.\\n\\n────────────────────────\\n9. NEXT ACTIONS FOR YOU (CHOOSE PATH)\\n────────────────────────\\nIf “Need work NOW” →  \\n1) Lock 3-mo contract budget cap (e.g., $60 k).  \\n2) Push out contractor JD today; aim to shortlist by Day 5.  \\n3) Parallel-track permanent search to avoid reset in 3 months.\\n\\nIf “Can wait 3 months” →  \\n1) Finalize salary band this week.  \\n2) Kick off perm recruiting at T-4 weeks (so offer by T-8 weeks).  \\n3) Use intervening time for discovery sprint or design audit to sharpen role.\\n\\n────────────────────────\\n10. SUMMARY IN ONE SENTENCE\\n────────────────────────\\nBridge with a 3-month senior contractor while launching a parallel permanent search—unless funding truly locks in only after 3 months, in which case start the perm pipeline 4 weeks before the cash lands.', refusal=None, role='assistant', annotations=[], audio=None, function_call=None, tool_calls=None))], created=1752076722, model='o3-2025-04-16', object='chat.completion', service_tier='default', system_fingerprint=None, usage=CompletionUsage(completion_tokens=2228, prompt_tokens=82, total_tokens=2310, completion_tokens_details=CompletionTokensDetails(accepted_prediction_tokens=0, audio_tokens=0, reasoning_tokens=448, rejected_prediction_tokens=0), prompt_tokens_details=PromptTokensDetails(audio_tokens=0, cached_tokens=0)))"
      ]
     },
     "execution_count": 5,
     "metadata": {},
     "output_type": "execute_result"
    }
   ],
   "source": [
    "prompt = \"\"\"\n",
    "[Developer Message]\n",
    "Formatting re-enabled\n",
    "You are a reasoning model. Our user wants to create a hiring plan for a UX designer but only has partial guidelines:\n",
    "\n",
    "- Their budget is uncertain\n",
    "- They want a senior-level skill set\n",
    "- They have conflicting timelines (start immediately vs. wait 3 months)\n",
    "- They’re unsure if they need a permanent or contract hire\n",
    "\"\"\"\n",
    "\n",
    "response = client.chat.completions.create(\n",
    "    model=MODEL,\n",
    "    messages=[\n",
    "        {\"role\": \"user\", \"content\": prompt}\n",
    "    ]\n",
    ")\n",
    "\n",
    "response"
   ]
  },
  {
   "cell_type": "markdown",
   "metadata": {},
   "source": [
    "![](2025-07-09-16-59-50.png)\n",
    "\n",
    "# How to Prompt Reasoning LLMs\n",
    "\n",
    "1. Brief them\n",
    "2. Treat them as report generators\n",
    "3. Push context"
   ]
  },
  {
   "cell_type": "markdown",
   "metadata": {},
   "source": [
    "## 2. Finding a needle in a haystack\n",
    "\n",
    "**Problem Description**  \n",
    "A legal team has a 50-page contract with many footnotes. Buried in the footnotes is a “change of control” clause that triggers immediate debt repayment. The model must search all text and highlight that hidden clause.\n",
    "\n",
    "**Prompt**  \n",
    "```\n",
    "[Developer Message]\n",
    "Formatting re-enabled\n",
    "Below is a 50-page contract excerpt. Identify any clauses that reference “change of control,” summarize the key conditions from them, and highlight financial obligations that might be triggered.\n",
    "\n",
    "---\n",
    "CONTRACT TEXT:\n",
    "(Full 50-page text goes here; possibly including footnotes)\n",
    "---\n",
    "```"
   ]
  },
  {
   "cell_type": "markdown",
   "metadata": {},
   "source": [
    "## 3. Finding relationships and nuance across a large dataset\n",
    "\n",
    "**Problem Description**  \n",
    "A tax expert wants to reconcile multiple financial documents (tax code references, expense logs, corporate structure charts) to determine how a new local tax rule applies to overseas transactions. The relevant rule isn’t explicitly mentioned in any single document but can be inferred from cross-references.\n",
    "\n",
    "**Prompt**  \n",
    "```\n",
    "[Developer Message]\n",
    "Formatting re-enabled\n",
    "You have these documents:\n",
    "1) Excerpts from local tax codes\n",
    "2) Corporate expense logs\n",
    "3) An organizational chart spanning multiple countries\n",
    "\n",
    "Determine how a newly introduced local tax rule applies to the overseas branches of the company. Show your final conclusion in concise bullet points. Cross-reference relevant segments of each document if needed.\n",
    "```\n",
    "\n",
    "---\n",
    "\n",
    "## 4. Multi-step agentic planning\n",
    "\n",
    "**Problem Description**  \n",
    "A user wants to design a multi-step marketing campaign: identifying the target audience, planning the budget, creating ad copy, and choosing the ad platform. They also want to automate each step if possible.\n",
    "\n",
    "**Prompt**  \n",
    "```\n",
    "[Developer Message]\n",
    "Formatting re-enabled\n",
    "Act as the planner for this multi-step marketing campaign. Break the problem into steps:\n",
    "1) Identify the audience segments\n",
    "2) Draft a realistic budget\n",
    "3) Propose initial ad copy\n",
    "4) Select the best ad platforms\n",
    "\n",
    "For each step, assign it either to a reasoning model (if complex) or a GPT model (if faster/cheaper). Produce a task list with justifications.\n",
    "```\n",
    "\n",
    "---\n",
    "\n",
    "## 5. Visual reasoning\n",
    "\n",
    "**Problem Description**  \n",
    "An architect has multiple blueprint pages. Page 1 includes a legend of architectural symbols. Page 2 shows the floor plan, referencing the symbols. The model must interpret the legend and figure out the materials indicated in the drawing—like identifying a “4x4 PT post” as a pressure-treated wood post.\n",
    "\n",
    "**Prompt**  \n",
    "```\n",
    "[Developer Message]\n",
    "Formatting re-enabled\n",
    "We have two images representing architectural blueprints:\n",
    "\n",
    "- Image A: Legend of symbols\n",
    "- Image B: Floor plan with the same symbols\n",
    "\n",
    "Identify the materials and structural components on the floor plan, referencing the legend. Output a list of each symbol and the corresponding material. If the legend uses abbreviations (like “PT” for pressure treated), apply it correctly in the final list.\n",
    "```\n",
    "\n",
    "---\n",
    "\n",
    "## 6. Reviewing, debugging, and improving code quality\n",
    "\n",
    "**Problem Description**  \n",
    "A developer has submitted a pull request with new features across several files in a large codebase. The model must perform an in-depth code review to identify potential bugs, performance bottlenecks, and coding standard violations.\n",
    "\n",
    "**Prompt**  \n",
    "```\n",
    "[Developer Message]\n",
    "Formatting re-enabled\n",
    "Here are the diffs from multiple files in a large codebase (pseudocode or actual diffs). Perform a thorough code review. For each file:\n",
    "1) Flag any possible logic errors or performance issues\n",
    "2) Suggest improvements or best practices\n",
    "3) Indicate if you see any style inconsistencies\n",
    "\n",
    "Provide your feedback as a bullet list organized by filename.\n",
    "```\n",
    "\n",
    "---\n",
    "\n",
    "## 7. Evaluation and benchmarking for other model responses\n",
    "\n",
    "**Problem Description**  \n",
    "A user has two different model-generated summaries of patient questions. They want to evaluate which summary is more accurate, consistent, and comprehensive, according to strict healthcare guidelines.\n",
    "\n",
    "**Prompt**  \n",
    "```\n",
    "[Developer Message]\n",
    "Formatting re-enabled\n",
    "We have two candidate summaries generated by separate models. Evaluate each summary on:\n",
    "- Accuracy of medical facts\n",
    "- Coverage of all patient concerns\n",
    "- Consistency with our policy guidelines\n",
    "\n",
    "Provide a scoring or ranking for each category. Then recommend which summary is better overall.  \n",
    "Candidate Summaries:\n",
    "A) ...\n",
    "B) ...\n",
    "```\n",
    "\n",
    "---\n",
    "\n",
    "These examples demonstrate how to use reasoning models (like `o1` or `o3-mini`) in different scenarios, emphasizing clarity, concise prompts, and a direct request for outcomes."
   ]
  }
 ],
 "metadata": {
  "kernelspec": {
   "display_name": "oreilly-reasoning",
   "language": "python",
   "name": "oreilly-reasoning"
  },
  "language_info": {
   "codemirror_mode": {
    "name": "ipython",
    "version": 3
   },
   "file_extension": ".py",
   "mimetype": "text/x-python",
   "name": "python",
   "nbconvert_exporter": "python",
   "pygments_lexer": "ipython3",
   "version": "3.11.11"
  }
 },
 "nbformat": 4,
 "nbformat_minor": 2
}
